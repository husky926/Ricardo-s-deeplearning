{
 "cells": [
  {
   "cell_type": "code",
   "execution_count": 2,
   "id": "3d844d57",
   "metadata": {},
   "outputs": [
    {
     "name": "stdout",
     "output_type": "stream",
     "text": [
      "tensor([2., 3., 4.], requires_grad=True)\n",
      "tensor([ 512.,  768., 1024.], grad_fn=<MulBackward0>)\n",
      "tensor([256., 256., 256.])\n"
     ]
    }
   ],
   "source": [
    "import torch\n",
    "x = torch.tensor([2, 3, 4], dtype=torch.float, requires_grad=True)\n",
    "print(x)\n",
    "y = x * 2\n",
    "while y.norm() < 1000:\n",
    "    y = y * 2\n",
    "print(y)\n",
    "y.backward(torch.ones_like(y))\n",
    "print(x.grad)\n"
   ]
  },
  {
   "cell_type": "code",
   "execution_count": 3,
   "id": "8d570709",
   "metadata": {},
   "outputs": [
    {
     "data": {
      "text/plain": [
       "(tensor([4., 4.], grad_fn=<MulBackward0>), tensor([4., 4.]))"
      ]
     },
     "execution_count": 3,
     "metadata": {},
     "output_type": "execute_result"
    }
   ],
   "source": [
    "\n",
    "x = torch.tensor([2,2],dtype=torch.float32,requires_grad=True)\n",
    "\n",
    "#Case 1\n",
    "y = x * x\n",
    "y.sum().backward()\n",
    "y,x.grad\n",
    "#Case 2\n"
   ]
  },
  {
   "cell_type": "code",
   "execution_count": 7,
   "id": "7cedee00",
   "metadata": {},
   "outputs": [
    {
     "data": {
      "text/plain": [
       "(tensor(8., grad_fn=<DotBackward0>),\n",
       " tensor([4., 4.]),\n",
       " tensor([[2., 2.]], grad_fn=<ViewBackward0>))"
      ]
     },
     "execution_count": 7,
     "metadata": {},
     "output_type": "execute_result"
    }
   ],
   "source": [
    "x.grad.zero_()\n",
    "y1 = torch.dot(x,x)\n",
    "y1.backward()\n",
    "y1,x.grad,x.view(1,2)"
   ]
  },
  {
   "cell_type": "code",
   "execution_count": 11,
   "id": "a248efdd",
   "metadata": {
    "pycharm": {
     "name": "#%%\n"
    }
   },
   "outputs": [
    {
     "data": {
      "text/plain": [
       "(tensor([[5., 8.]], grad_fn=<MmBackward0>),\n",
       " tensor([2., 1.], requires_grad=True),\n",
       " tensor([[1., 2.],\n",
       "         [3., 4.]], requires_grad=True),\n",
       " tensor([[2., 1.]], grad_fn=<ViewBackward0>))"
      ]
     },
     "execution_count": 11,
     "metadata": {},
     "output_type": "execute_result"
    }
   ],
   "source": [
    "x = torch.tensor([2., 1.], requires_grad=True)\n",
    "y = torch.tensor([[1., 2.], [3., 4.]], requires_grad=True)\n",
    "\n",
    "z = torch.mm(x.view(1, 2), y)\n",
    "z,x,y,x.view(1,2)"
   ]
  },
  {
   "cell_type": "code",
   "execution_count": 1,
   "id": "de1b9914",
   "metadata": {
    "pycharm": {
     "name": "#%%\n"
    }
   },
   "outputs": [
    {
     "name": "stdout",
     "output_type": "stream",
     "text": [
      "\f",
      "\n"
     ]
    }
   ],
   "source": [
    "clear"
   ]
  },
  {
   "cell_type": "code",
   "execution_count": 56,
   "id": "480c1f51",
   "metadata": {},
   "outputs": [],
   "source": [
    "%matplotlib inline\n",
    "import random\n",
    "import torch\n",
    "from d2l import torch as d2l"
   ]
  },
  {
   "cell_type": "code",
   "execution_count": 57,
   "id": "76d27e77",
   "metadata": {},
   "outputs": [],
   "source": [
    "def synthetic_data(w,b,num_examples):\n",
    "    X = torch.normal(0,1,(num_examples,len(w)))\n",
    "    y = torch.matmul(X,w) + b\n",
    "    y += torch.normal(0,0.01,y.shape)\n",
    "    return X,y.reshape((-1,1))\n",
    "\n",
    "true_w = torch.tensor([-2,-3.4])\n",
    "true_b = 4.2\n",
    "features,labels = synthetic_data(true_w,true_b,1000)\n"
   ]
  },
  {
   "cell_type": "code",
   "execution_count": 58,
   "id": "d4731add",
   "metadata": {},
   "outputs": [],
   "source": [
    "# d2l.set_figsize()\n",
    "# d2l.plt.scatter(features[:,1].detach().numpy(),labels.detach().numpy(),1)"
   ]
  },
  {
   "cell_type": "code",
   "execution_count": 59,
   "id": "d7056f36",
   "metadata": {},
   "outputs": [],
   "source": [
    "def data_iter(batch_size,features,labels):\n",
    "    num_examples = len(features)\n",
    "    indices = list(range(num_examples))\n",
    "    random.shuffle(indices)\n",
    "    for i in range(0,num_examples,batch_size):\n",
    "        batch_indices = torch.tensor(\n",
    "        indices[i:min(i+batch_size,num_examples)])\n",
    "        yield features[batch_indices],labels[batch_indices]"
   ]
  },
  {
   "cell_type": "code",
   "execution_count": 60,
   "id": "b4634a39",
   "metadata": {
    "scrolled": true
   },
   "outputs": [
    {
     "name": "stdout",
     "output_type": "stream",
     "text": [
      "tensor([[ 3.0382, -0.7230],\n",
      "        [-0.1171, -0.3877],\n",
      "        [ 0.9153, -1.4330],\n",
      "        [-1.3969,  1.2224],\n",
      "        [ 1.1092, -1.2493],\n",
      "        [-0.2511, -0.4916],\n",
      "        [ 0.9761,  1.2399],\n",
      "        [-0.9159,  0.5976],\n",
      "        [ 0.4933, -0.2480],\n",
      "        [-2.5319, -1.2822],\n",
      "        [-0.3733, -0.8967],\n",
      "        [-1.2989, -0.1246],\n",
      "        [-0.1516,  0.5345],\n",
      "        [ 0.1705,  1.4761],\n",
      "        [-1.2914,  1.2234],\n",
      "        [ 1.5859,  0.5187],\n",
      "        [-0.1911,  0.0207],\n",
      "        [ 0.6097, -0.5226],\n",
      "        [ 0.8553,  0.4920],\n",
      "        [-0.3415,  0.5573]]) \n",
      " tensor([[ 0.5758],\n",
      "        [ 5.7675],\n",
      "        [ 7.2473],\n",
      "        [ 2.8324],\n",
      "        [ 6.2258],\n",
      "        [ 6.3617],\n",
      "        [-1.9613],\n",
      "        [ 4.0019],\n",
      "        [ 4.0456],\n",
      "        [13.6190],\n",
      "        [ 7.9815],\n",
      "        [ 7.2063],\n",
      "        [ 2.6836],\n",
      "        [-1.1703],\n",
      "        [ 2.6476],\n",
      "        [-0.7386],\n",
      "        [ 4.5167],\n",
      "        [ 4.7571],\n",
      "        [ 0.8261],\n",
      "        [ 2.9989]])\n"
     ]
    }
   ],
   "source": [
    "batch_size = 20\n",
    "for X,y in data_iter(batch_size,features,labels):\n",
    "    print(X,'\\n',y)\n",
    "    break\n"
   ]
  },
  {
   "cell_type": "code",
   "execution_count": 69,
   "id": "70ec8eab",
   "metadata": {},
   "outputs": [],
   "source": [
    "#初始化模型参数\n",
    "w = torch.normal(0,0.01,size = (2,1),requires_grad=True)\n",
    "b = torch.zeros(1,requires_grad = True)\n"
   ]
  },
  {
   "cell_type": "code",
   "execution_count": 62,
   "id": "d5aac002",
   "metadata": {},
   "outputs": [],
   "source": [
    "#定义模型\n",
    "def linreg(X,w,b):\n",
    "    return torch.matmul(X,w) + b"
   ]
  },
  {
   "cell_type": "code",
   "execution_count": 63,
   "id": "60f94733",
   "metadata": {},
   "outputs": [],
   "source": [
    "#定义损失函数\n",
    "def squared_loss(y_hat,y):\n",
    "    return (y_hat - y.reshape(y_hat.shape)) **2 / 2"
   ]
  },
  {
   "cell_type": "code",
   "execution_count": 64,
   "id": "5bdfb568",
   "metadata": {},
   "outputs": [],
   "source": [
    "#优化函数\n",
    "def sgd(params,lr,batch_size):\n",
    "    with torch.no_grad():\n",
    "        for param in params:\n",
    "            param -= lr * param.grad / batch_size\n",
    "            param.grad.zero_()\n",
    "        "
   ]
  },
  {
   "cell_type": "code",
   "execution_count": 70,
   "id": "e8d47a19",
   "metadata": {},
   "outputs": [
    {
     "name": "stdout",
     "output_type": "stream",
     "text": [
      "epoch 1,loss0.849398\n",
      "epoch 2,loss0.045563\n",
      "epoch 3,loss0.002487\n"
     ]
    }
   ],
   "source": [
    "lr = 0.03\n",
    "num_epochs = 3\n",
    "net = linreg\n",
    "loss = squared_loss\n",
    "\n",
    "\n",
    "for epoch in range(num_epochs):\n",
    "    for X,y in data_iter(batch_size,features,labels):\n",
    "        l = loss(net(X,w,b),y)\n",
    "        l.sum().backward()\n",
    "        sgd([w,b],lr,batch_size)\n",
    "    with torch.no_grad():\n",
    "        train_l = loss(net(features,w,b),labels)\n",
    "        print(f'epoch {epoch +1},loss{float(train_l.mean()):f}')"
   ]
  },
  {
   "cell_type": "code",
   "execution_count": null,
   "id": "c2fdc602",
   "metadata": {},
   "outputs": [],
   "source": []
  },
  {
   "cell_type": "code",
   "execution_count": null,
   "id": "96ed9ffd",
   "metadata": {},
   "outputs": [],
   "source": []
  },
  {
   "cell_type": "code",
   "execution_count": null,
   "id": "ff5b7088",
   "metadata": {},
   "outputs": [],
   "source": []
  }
 ],
 "metadata": {
  "kernelspec": {
   "display_name": "Python 3 (ipykernel)",
   "language": "python",
   "name": "python3"
  },
  "language_info": {
   "codemirror_mode": {
    "name": "ipython",
    "version": 3
   },
   "file_extension": ".py",
   "mimetype": "text/x-python",
   "name": "python",
   "nbconvert_exporter": "python",
   "pygments_lexer": "ipython3",
   "version": "3.9.13"
  }
 },
 "nbformat": 4,
 "nbformat_minor": 5
}