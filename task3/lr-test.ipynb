{
 "cells": [
  {
   "cell_type": "code",
   "execution_count": 2,
   "id": "3d844d57",
   "metadata": {},
   "outputs": [
    {
     "name": "stdout",
     "output_type": "stream",
     "text": [
      "tensor([2., 3., 4.], requires_grad=True)\n",
      "tensor([ 512.,  768., 1024.], grad_fn=<MulBackward0>)\n",
      "tensor([256., 256., 256.])\n"
     ]
    }
   ],
   "source": [
    "import torch\n",
    "x = torch.tensor([2, 3, 4], dtype=torch.float, requires_grad=True)\n",
    "print(x)\n",
    "y = x * 2\n",
    "while y.norm() < 1000:\n",
    "    y = y * 2\n",
    "print(y)\n",
    "y.backward(torch.ones_like(y))\n",
    "print(x.grad)\n"
   ]
  },
  {
   "cell_type": "code",
   "execution_count": 27,
   "id": "8d570709",
   "metadata": {},
   "outputs": [
    {
     "data": {
      "text/plain": "(tensor([4., 4.], grad_fn=<MulBackward0>), tensor([4., 4.]))"
     },
     "execution_count": 27,
     "metadata": {},
     "output_type": "execute_result"
    }
   ],
   "source": [
    "\n",
    "x = torch.tensor([2,2],dtype=torch.float32,requires_grad=True)\n",
    "\n",
    "#Case 1\n",
    "y = x * x\n",
    "y.sum().backward()\n",
    "y,x.grad\n",
    "#Case 2\n"
   ]
  },
  {
   "cell_type": "code",
   "execution_count": 26,
   "id": "7cedee00",
   "metadata": {},
   "outputs": [
    {
     "data": {
      "text/plain": "(tensor(8., grad_fn=<DotBackward0>), tensor([4., 4.]))"
     },
     "execution_count": 26,
     "metadata": {},
     "output_type": "execute_result"
    }
   ],
   "source": [
    "x.grad.zero_()\n",
    "y1 = torch.dot(x,x)\n",
    "y1.backward()\n",
    "y1,x.grad"
   ]
  },
  {
   "cell_type": "code",
   "execution_count": 22,
   "outputs": [],
   "source": [],
   "metadata": {
    "collapsed": false,
    "pycharm": {
     "name": "#%%\n"
    }
   }
  },
  {
   "cell_type": "code",
   "execution_count": null,
   "outputs": [],
   "source": [],
   "metadata": {
    "collapsed": false,
    "pycharm": {
     "name": "#%%\n"
    }
   }
  }
 ],
 "metadata": {
  "kernelspec": {
   "display_name": "Python 3 (ipykernel)",
   "language": "python",
   "name": "python3"
  },
  "language_info": {
   "codemirror_mode": {
    "name": "ipython",
    "version": 3
   },
   "file_extension": ".py",
   "mimetype": "text/x-python",
   "name": "python",
   "nbconvert_exporter": "python",
   "pygments_lexer": "ipython3",
   "version": "3.9.13"
  }
 },
 "nbformat": 4,
 "nbformat_minor": 5
}