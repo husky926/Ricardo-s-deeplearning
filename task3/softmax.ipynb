{
 "cells": [
  {
   "cell_type": "code",
   "execution_count": 1,
   "id": "d0a53fed",
   "metadata": {},
   "outputs": [],
   "source": [
    "#实现softmax回归\n",
    "# 独热编码\n",
    "# 定义的分量和类别一样多\n",
    "# y = {(1,0,0),(0,1,0),(0,0,1)}\n",
    "# 分别对应三个不同的类别\n"
   ]
  },
  {
   "cell_type": "code",
   "execution_count": 2,
   "id": "2ddbc95b",
   "metadata": {},
   "outputs": [],
   "source": [
    "#网络架构相当于一个单层神经网络\n",
    "#softmax的梯度是真实概率和预测的差值\n",
    "#损失函数相似于线性回归(可考虑将平凡项转换为绝对值)\n"
   ]
  },
  {
   "cell_type": "code",
   "execution_count": 3,
   "id": "8c1e5278",
   "metadata": {},
   "outputs": [],
   "source": [
    "%matplotlib inline\n",
    "import torch\n",
    "import torchvision\n",
    "from torch.utils import data\n",
    "from torchvision import transforms\n",
    "from d2l import torch as d2l\n",
    "\n",
    "d2l.use_svg_display()"
   ]
  },
  {
   "cell_type": "code",
   "execution_count": 4,
   "id": "72d55ffa",
   "metadata": {},
   "outputs": [],
   "source": [
    "trans = transforms.ToTensor()\n",
    "mnist_train = torchvision.datasets.FashionMNIST(root='../data',train = True,transform=trans,download = True)"
   ]
  },
  {
   "cell_type": "code",
   "execution_count": 5,
   "id": "5ff671d3",
   "metadata": {},
   "outputs": [
    {
     "data": {
      "text/plain": [
       "(60000, 10000)"
      ]
     },
     "execution_count": 5,
     "metadata": {},
     "output_type": "execute_result"
    }
   ],
   "source": [
    "mnist_test = torchvision.datasets.FashionMNIST(root='../data',train = False,transform=trans,download = True)\n",
    "len(mnist_train),len(mnist_test)"
   ]
  },
  {
   "cell_type": "code",
   "execution_count": 6,
   "id": "7a3f5a1a",
   "metadata": {},
   "outputs": [
    {
     "data": {
      "text/plain": [
       "torch.Size([1, 28, 28])"
      ]
     },
     "execution_count": 6,
     "metadata": {},
     "output_type": "execute_result"
    }
   ],
   "source": [
    "mnist_train[0][0].shape"
   ]
  },
  {
   "cell_type": "code",
   "execution_count": 7,
   "id": "6b0462c0",
   "metadata": {},
   "outputs": [],
   "source": [
    "def get_fashion_mnist_labels(labels):\n",
    "    text_labels = [\n",
    "        't-shirt', 'trouser', 'pullover', 'dress', 'coat', 'sandal', 'shirt',\n",
    "        'sneaker', 'bag', 'ankle boot']\n",
    "    return [text_labels[int(i)] for i in labels]\n",
    "\n",
    "def show_images(imgs, num_rows, num_cols, titles=None, scale=1.5):  \n",
    "    \"\"\"Plot a list of images.\"\"\"\n",
    "    figsize = (num_cols * scale, num_rows * scale)\n",
    "    _, axes = d2l.plt.subplots(num_rows, num_cols, figsize=figsize)\n",
    "    axes = axes.flatten()\n",
    "    for i, (ax, img) in enumerate(zip(axes, imgs)):\n",
    "        if torch.is_tensor(img):\n",
    "            ax.imshow(img.numpy())\n",
    "        else:\n",
    "            ax.imshow(img)\n",
    "        ax.axes.get_xaxis().set_visible(False)\n",
    "        ax.axes.get_yaxis().set_visible(False)\n",
    "        if titles:\n",
    "            ax.set_title(titles[i])\n",
    "    return axes\n",
    "    "
   ]
  },
  {
   "cell_type": "code",
   "execution_count": 8,
   "id": "12d7cc1c",
   "metadata": {},
   "outputs": [
    {
     "data": {
      "text/plain": [
       "'5.21 sec'"
      ]
     },
     "execution_count": 8,
     "metadata": {},
     "output_type": "execute_result"
    }
   ],
   "source": [
    "batch_size = 256\n",
    "\n",
    "def get_dataloader_workers():  \n",
    "    \"\"\"使用4个进程来读取数据。\"\"\"\n",
    "    return 4\n",
    "\n",
    "train_iter = data.DataLoader(mnist_train, batch_size, shuffle=True,\n",
    "                             num_workers=get_dataloader_workers())\n",
    "\n",
    "timer = d2l.Timer()\n",
    "for X, y in train_iter:\n",
    "    continue\n",
    "f'{timer.stop():.2f} sec'"
   ]
  },
  {
   "cell_type": "code",
   "execution_count": 9,
   "id": "cafc3a78",
   "metadata": {},
   "outputs": [],
   "source": [
    "#softmax 函数实现"
   ]
  },
  {
   "cell_type": "code",
   "execution_count": 20,
   "id": "637b7d6b",
   "metadata": {},
   "outputs": [],
   "source": [
    "import torch\n",
    "import numpy as np\n",
    "from IPython import display\n",
    "from d2l import torch as d2l\n",
    "\n",
    "batch_size = 256\n",
    "train_iter,test_iter = d2l.load_data_fashion_mnist(batch_size)"
   ]
  },
  {
   "cell_type": "code",
   "execution_count": 21,
   "id": "32ba1b64",
   "metadata": {},
   "outputs": [],
   "source": [
    "num_inputs = 784\n",
    "num_outputs = 10\n",
    "\n",
    "W = torch.normal(0,0.01,size = (num_inputs,num_outputs),requires_grad = True)\n",
    "b = torch.zeros(num_outputs,requires_grad=True)"
   ]
  },
  {
   "cell_type": "code",
   "execution_count": 22,
   "id": "437750fb",
   "metadata": {},
   "outputs": [
    {
     "data": {
      "text/plain": [
       "(tensor([[5., 7., 9.]]),\n",
       " tensor([[ 6.],\n",
       "         [15.]]))"
      ]
     },
     "execution_count": 22,
     "metadata": {},
     "output_type": "execute_result"
    }
   ],
   "source": [
    "X = torch.tensor([[1.0,2.0,3.0],[4.0,5.0,6.0]])\n",
    "X.sum(0,keepdim=True),X.sum(1,keepdim=True)"
   ]
  },
  {
   "cell_type": "code",
   "execution_count": 44,
   "id": "bec23e71",
   "metadata": {},
   "outputs": [],
   "source": [
    "#实现softmax\n",
    "def softmax(X):\n",
    "    X_exp = torch.exp(X)\n",
    "    partition = X_exp.sum(1,keepdim = True)\n",
    "    return X_exp/partition\n"
   ]
  },
  {
   "cell_type": "code",
   "execution_count": 81,
   "id": "defe891c",
   "metadata": {},
   "outputs": [
    {
     "data": {
      "text/plain": [
       "(tensor([[0.2530, 0.0913, 0.1886, 0.2903, 0.1768],\n",
       "         [0.0671, 0.1087, 0.3879, 0.2215, 0.2148]]),\n",
       " tensor([1.0000, 1.0000]))"
      ]
     },
     "execution_count": 81,
     "metadata": {},
     "output_type": "execute_result"
    }
   ],
   "source": [
    "X = torch.normal(0,1,(2,5))\n",
    "X_prob = softmax(X)\n",
    "X_prob,X_prob.sum(1)"
   ]
  },
  {
   "cell_type": "code",
   "execution_count": 82,
   "id": "9244db6f",
   "metadata": {},
   "outputs": [],
   "source": [
    "def net(X):\n",
    "    return softmax(torch.matmul(X.shape((-1,W.shape[0])),W) + b)\n"
   ]
  },
  {
   "cell_type": "code",
   "execution_count": 83,
   "id": "6bb72e89",
   "metadata": {},
   "outputs": [
    {
     "data": {
      "text/plain": [
       "tensor([1, 2, 3, 4])"
      ]
     },
     "execution_count": 83,
     "metadata": {},
     "output_type": "execute_result"
    }
   ],
   "source": [
    "z = torch.tensor([[1,2],[3,4]]).reshape(-1)\n",
    "z"
   ]
  },
  {
   "cell_type": "code",
   "execution_count": 96,
   "id": "c060728c",
   "metadata": {},
   "outputs": [
    {
     "data": {
      "text/plain": [
       "(tensor([[0.1000, 0.3000, 0.6000],\n",
       "         [0.3000, 0.2000, 0.5000]]),\n",
       " tensor([0.1000, 0.5000]),\n",
       " 3)"
      ]
     },
     "execution_count": 96,
     "metadata": {},
     "output_type": "execute_result"
    }
   ],
   "source": [
    "y = torch.tensor([0,2])\n",
    "y_hat = torch.tensor([[0.1,0.3,0.6],[0.3,0.2,0.5]])\n",
    "y_hat,y_hat[[0,1],y],y_hat.shape[1]"
   ]
  },
  {
   "cell_type": "code",
   "execution_count": 85,
   "id": "edfbfe1a",
   "metadata": {},
   "outputs": [
    {
     "data": {
      "text/plain": [
       "tensor([2.3026, 0.6931])"
      ]
     },
     "execution_count": 85,
     "metadata": {},
     "output_type": "execute_result"
    }
   ],
   "source": [
    "#交叉熵函数\n",
    "def cross_entropy(y_hat,y):\n",
    "    return -torch.log(y_hat[range(len(y_hat)),y])\n",
    "\n",
    "cross_entropy(y_hat,y)"
   ]
  },
  {
   "cell_type": "code",
   "execution_count": 86,
   "id": "c53bb7f8",
   "metadata": {},
   "outputs": [
    {
     "data": {
      "text/plain": [
       "0.5"
      ]
     },
     "execution_count": 86,
     "metadata": {},
     "output_type": "execute_result"
    }
   ],
   "source": [
    "\"\"\"计算预测正确的数量。\"\"\"\n",
    "def accuracy(y_hat,y):\n",
    "    if len(y_hat.shape)>1 and y_hat.shape[1]>1:\n",
    "        y_hat = y_hat.argmax(axis=1)\n",
    "    cmp = y_hat.type(y.dtype) == y\n",
    "    return float(cmp.type(y.dtype).sum())\n",
    "\n",
    "accuracy(y_hat,y) / len(y)"
   ]
  },
  {
   "cell_type": "code",
   "execution_count": 98,
   "id": "dbd08a1f",
   "metadata": {},
   "outputs": [],
   "source": [
    "def evaluate_accuracy(net, data_iter):  \n",
    "    \"\"\"计算在指定数据集上模型的精度。\"\"\"\n",
    "    if isinstance(net, torch.nn.Module):\n",
    "        net.eval()\n",
    "    metric = Accumulator(2)\n",
    "    for X, y in data_iter:\n",
    "        metric.add(accuracy(net(X), y), y.numel())\n",
    "    return metric[0] / metric[1]"
   ]
  },
  {
   "cell_type": "code",
   "execution_count": null,
   "id": "5c7739c4",
   "metadata": {},
   "outputs": [],
   "source": [
    "class Accumulator:  \n",
    "    \"\"\"在`n`个变量上累加。\"\"\"\n",
    "    def __init__(self, n):\n",
    "        self.data = [0.0] * n\n",
    "\n",
    "    def add(self, *args):\n",
    "        self.data = [a + float(b) for a, b in zip(self.data, args)]\n",
    "\n",
    "    def reset(self):\n",
    "        self.data = [0.0] * len(self.data)\n",
    "\n",
    "    def __getitem__(self, idx):\n",
    "        return self.data[idx]\n",
    "\n",
    "evaluate_accuracy(net, test_iter)"
   ]
  },
  {
   "cell_type": "code",
   "execution_count": null,
   "id": "4810b8e2",
   "metadata": {},
   "outputs": [],
   "source": [
    "def train_epoch_ch3(net, train_iter, loss, updater):  \n",
    "    \"\"\"训练模型一个迭代周期。\"\"\"\n",
    "    if isinstance(net, torch.nn.Module):\n",
    "        net.train()\n",
    "    metric = Accumulator(3)\n",
    "    for X, y in train_iter:\n",
    "        y_hat = net(X)s\n",
    "        l = loss(y_hat, y)\n",
    "        if isinstance(updater, torch.optim.Optimizer):\n",
    "            updater.zero_grad()\n",
    "            l.backward()\n",
    "            updater.step()\n",
    "            metric.add(\n",
    "                float(l) * len(y), accuracy(y_hat, y),\n",
    "                y.size().numel())\n",
    "        else:\n",
    "            l.sum().backward()\n",
    "            updater(X.shape[0])\n",
    "            metric.add(float(l.sum()), accuracy(y_hat, y), y.numel())\n",
    "    return metric[0] / metric[2], metric[1] / metric[2]"
   ]
  },
  {
   "cell_type": "code",
   "execution_count": null,
   "id": "ec68ddd4",
   "metadata": {},
   "outputs": [],
   "source": []
  }
 ],
 "metadata": {
  "kernelspec": {
   "display_name": "Python 3 (ipykernel)",
   "language": "python",
   "name": "python3"
  },
  "language_info": {
   "codemirror_mode": {
    "name": "ipython",
    "version": 3
   },
   "file_extension": ".py",
   "mimetype": "text/x-python",
   "name": "python",
   "nbconvert_exporter": "python",
   "pygments_lexer": "ipython3",
   "version": "3.9.13"
  }
 },
 "nbformat": 4,
 "nbformat_minor": 5
}
