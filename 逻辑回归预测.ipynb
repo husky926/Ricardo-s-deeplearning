{
 "cells": [
  {
   "cell_type": "code",
   "execution_count": 1,
   "id": "a1c13e0c",
   "metadata": {},
   "outputs": [],
   "source": [
    "import pandas as pd\n",
    "import numpy as np"
   ]
  },
  {
   "cell_type": "code",
   "execution_count": 2,
   "id": "92de1911",
   "metadata": {},
   "outputs": [],
   "source": [
    "data=pd.read_csv(r\"C:\\Users\\86135\\Desktop\\credit-overdue.csv\")"
   ]
  },
  {
   "cell_type": "code",
   "execution_count": 3,
   "id": "a3058b9d",
   "metadata": {},
   "outputs": [
    {
     "data": {
      "text/html": [
       "<div>\n",
       "<style scoped>\n",
       "    .dataframe tbody tr th:only-of-type {\n",
       "        vertical-align: middle;\n",
       "    }\n",
       "\n",
       "    .dataframe tbody tr th {\n",
       "        vertical-align: top;\n",
       "    }\n",
       "\n",
       "    .dataframe thead th {\n",
       "        text-align: right;\n",
       "    }\n",
       "</style>\n",
       "<table border=\"1\" class=\"dataframe\">\n",
       "  <thead>\n",
       "    <tr style=\"text-align: right;\">\n",
       "      <th></th>\n",
       "      <th>debt</th>\n",
       "      <th>income</th>\n",
       "      <th>overdue</th>\n",
       "    </tr>\n",
       "  </thead>\n",
       "  <tbody>\n",
       "    <tr>\n",
       "      <th>0</th>\n",
       "      <td>1.86</td>\n",
       "      <td>4.39</td>\n",
       "      <td>0</td>\n",
       "    </tr>\n",
       "    <tr>\n",
       "      <th>1</th>\n",
       "      <td>0.42</td>\n",
       "      <td>4.91</td>\n",
       "      <td>0</td>\n",
       "    </tr>\n",
       "    <tr>\n",
       "      <th>2</th>\n",
       "      <td>2.07</td>\n",
       "      <td>1.06</td>\n",
       "      <td>1</td>\n",
       "    </tr>\n",
       "    <tr>\n",
       "      <th>3</th>\n",
       "      <td>0.64</td>\n",
       "      <td>1.55</td>\n",
       "      <td>0</td>\n",
       "    </tr>\n",
       "    <tr>\n",
       "      <th>4</th>\n",
       "      <td>1.24</td>\n",
       "      <td>2.48</td>\n",
       "      <td>0</td>\n",
       "    </tr>\n",
       "    <tr>\n",
       "      <th>...</th>\n",
       "      <td>...</td>\n",
       "      <td>...</td>\n",
       "      <td>...</td>\n",
       "    </tr>\n",
       "    <tr>\n",
       "      <th>145</th>\n",
       "      <td>1.66</td>\n",
       "      <td>1.59</td>\n",
       "      <td>1</td>\n",
       "    </tr>\n",
       "    <tr>\n",
       "      <th>146</th>\n",
       "      <td>1.75</td>\n",
       "      <td>3.86</td>\n",
       "      <td>0</td>\n",
       "    </tr>\n",
       "    <tr>\n",
       "      <th>147</th>\n",
       "      <td>2.08</td>\n",
       "      <td>0.22</td>\n",
       "      <td>1</td>\n",
       "    </tr>\n",
       "    <tr>\n",
       "      <th>148</th>\n",
       "      <td>1.56</td>\n",
       "      <td>4.85</td>\n",
       "      <td>0</td>\n",
       "    </tr>\n",
       "    <tr>\n",
       "      <th>149</th>\n",
       "      <td>1.32</td>\n",
       "      <td>1.93</td>\n",
       "      <td>0</td>\n",
       "    </tr>\n",
       "  </tbody>\n",
       "</table>\n",
       "<p>150 rows × 3 columns</p>\n",
       "</div>"
      ],
      "text/plain": [
       "     debt  income  overdue\n",
       "0    1.86    4.39        0\n",
       "1    0.42    4.91        0\n",
       "2    2.07    1.06        1\n",
       "3    0.64    1.55        0\n",
       "4    1.24    2.48        0\n",
       "..    ...     ...      ...\n",
       "145  1.66    1.59        1\n",
       "146  1.75    3.86        0\n",
       "147  2.08    0.22        1\n",
       "148  1.56    4.85        0\n",
       "149  1.32    1.93        0\n",
       "\n",
       "[150 rows x 3 columns]"
      ]
     },
     "execution_count": 3,
     "metadata": {},
     "output_type": "execute_result"
    }
   ],
   "source": [
    "data"
   ]
  },
  {
   "cell_type": "code",
   "execution_count": 4,
   "id": "84b72e29",
   "metadata": {
    "scrolled": true
   },
   "outputs": [
    {
     "name": "stdout",
     "output_type": "stream",
     "text": [
      "<class 'pandas.core.frame.DataFrame'>\n",
      "RangeIndex: 150 entries, 0 to 149\n",
      "Data columns (total 3 columns):\n",
      " #   Column   Non-Null Count  Dtype  \n",
      "---  ------   --------------  -----  \n",
      " 0   debt     150 non-null    float64\n",
      " 1   income   150 non-null    float64\n",
      " 2   overdue  150 non-null    int64  \n",
      "dtypes: float64(2), int64(1)\n",
      "memory usage: 3.6 KB\n"
     ]
    }
   ],
   "source": [
    "data.info()"
   ]
  },
  {
   "cell_type": "markdown",
   "id": "8d21e065",
   "metadata": {},
   "source": [
    "通过info()函数可以看到并没有缺失值"
   ]
  },
  {
   "cell_type": "code",
   "execution_count": 5,
   "id": "68f03974",
   "metadata": {
    "scrolled": true
   },
   "outputs": [
    {
     "data": {
      "text/plain": [
       "([<matplotlib.patches.Wedge at 0x22a451053a0>,\n",
       "  <matplotlib.patches.Wedge at 0x22a45105880>],\n",
       " [Text(0.8018655028537539, 0.7530018030078657, '1'),\n",
       "  Text(-0.8018655381043115, -0.7530017654698314, '0')])"
      ]
     },
     "execution_count": 5,
     "metadata": {},
     "output_type": "execute_result"
    },
    {
     "data": {
      "image/png": "[encoded data removed]",
      "text/plain": [
       "<Figure size 432x288 with 1 Axes>"
      ]
     },
     "metadata": {},
     "output_type": "display_data"
    }
   ],
   "source": [
    "import matplotlib.pyplot as plt\n",
    "plt.pie(x=[36,114],labels=['1','0'])"
   ]
  },
  {
   "cell_type": "markdown",
   "id": "e7065fd0",
   "metadata": {},
   "source": [
    "可以看到类别1与0数量相差其实很大，所以这是一个较为偏斜的数据，所以后续的评价标准会相应考虑到类别的偏斜"
   ]
  },
  {
   "cell_type": "code",
   "execution_count": 6,
   "id": "9994c446",
   "metadata": {},
   "outputs": [],
   "source": [
    "data=np.array(data)\n",
    "X=data[:,0:2]"
   ]
  },
  {
   "cell_type": "markdown",
   "id": "760ed1de",
   "metadata": {},
   "source": [
    "使用numpy的array包一下pandas的dataframe便于后续的矩阵运算"
   ]
  },
  {
   "cell_type": "code",
   "execution_count": 7,
   "id": "b1c399b6",
   "metadata": {},
   "outputs": [],
   "source": [
    "y=data[:,2]"
   ]
  },
  {
   "cell_type": "code",
   "execution_count": 8,
   "id": "bde610ad",
   "metadata": {},
   "outputs": [],
   "source": [
    "from sklearn.preprocessing import PolynomialFeatures\n",
    "poly=PolynomialFeatures(degree=3)\n",
    "poly.fit(X)\n",
    "X=poly.transform(X)"
   ]
  },
  {
   "cell_type": "markdown",
   "id": "d862f7d4",
   "metadata": {},
   "source": [
    "增加多项式特征，并设置最高次数为3，这样会出现x1x2,x1方,x2方，x1三次方，x2三次方，x1方x2,x2方x1,这七个新的多项式特征，在提升数据复杂度的同时也提升了数据的信息量，从而使得线性模型对非线性特征有了更好的适应性（特征衍生）"
   ]
  },
  {
   "cell_type": "code",
   "execution_count": null,
   "outputs": [],
   "source": [
    "debt = data['debt'].values\n",
    "income = data['income'].values\n",
    "overdue = data['overdue'].values\n",
    "plt.scatter(x=debt, y=income, c=overdue)"
   ],
   "metadata": {
    "collapsed": false,
    "pycharm": {
     "name": "#%%\n"
    }
   }
  },
  {
   "cell_type": "code",
   "execution_count": 9,
   "id": "742ea405",
   "metadata": {},
   "outputs": [
    {
     "data": {
      "text/plain": [
       "(150, 10)"
      ]
     },
     "execution_count": 9,
     "metadata": {},
     "output_type": "execute_result"
    }
   ],
   "source": [
    "X.shape"
   ]
  },
  {
   "cell_type": "code",
   "execution_count": 10,
   "id": "e519f6db",
   "metadata": {},
   "outputs": [],
   "source": [
    "from sklearn.model_selection import train_test_split\n",
    "X_train,X_test,y_train,y_test=train_test_split(X,y,train_size=0.3,random_state=233)"
   ]
  },
  {
   "cell_type": "code",
   "execution_count": 11,
   "id": "4b10fe4d",
   "metadata": {},
   "outputs": [],
   "source": [
    "from sklearn.preprocessing import StandardScaler"
   ]
  },
  {
   "cell_type": "code",
   "execution_count": 12,
   "id": "f2699cc3",
   "metadata": {},
   "outputs": [],
   "source": [
    "std=StandardScaler()\n",
    "std.fit(X_train,y_train)\n",
    "X_train_std=std.transform(X_train)\n",
    "X_test_std=std.transform(X_test)"
   ]
  },
  {
   "cell_type": "markdown",
   "id": "0bb8892f",
   "metadata": {},
   "source": [
    "均值方差归一化：将每个特征的数据映射到标准正态分布上，映射之后每个数据的影响力不受数据的数量级影响，在对距离敏感的算法中归一化十分重要"
   ]
  },
  {
   "cell_type": "code",
   "execution_count": 13,
   "id": "0f731c28",
   "metadata": {},
   "outputs": [],
   "source": [
    "from sklearn.linear_model import LogisticRegression\n",
    "from sklearn.model_selection import GridSearchCV\n",
    "from sklearn.metrics import confusion_matrix"
   ]
  },
  {
   "cell_type": "code",
   "execution_count": null,
   "outputs": [],
   "source": [],
   "metadata": {
    "collapsed": false,
    "pycharm": {
     "name": "#%%\n"
    }
   }
  },
  {
   "cell_type": "markdown",
   "source": [],
   "metadata": {
    "collapsed": false
   }
  },
  {
   "cell_type": "code",
   "execution_count": 14,
   "id": "db931ed9",
   "metadata": {},
   "outputs": [
    {
     "data": {
      "text/plain": [
       "0.9813526570048309"
      ]
     },
     "execution_count": 14,
     "metadata": {},
     "output_type": "execute_result"
    }
   ],
   "source": [
    "params= {\n",
    "    'C':list(np.linspace(0.05,1,19)),\n",
    "    'solver':['liblinear','sag','newton-cg','lbfgs']}\n",
    "log_reg = LogisticRegression(penalty='l2',max_iter=10000)\n",
    "log_reg_grid = GridSearchCV(log_reg,params,cv=5,n_jobs=-1,scoring='f1_weighted')#而weighted-F1则根据每一类的比例分别赋予不同的权重。\n",
    "log_reg_grid.fit(X_train_std,y_train)\n",
    "y_predict=log_reg_grid.predict(X_test_std)\n",
    "#输出最优参数\n",
    "log_reg_grid.best_score_#打印最高分"
   ]
  },
  {
   "cell_type": "markdown",
   "id": "23a1ed7b",
   "metadata": {},
   "source": [
    "使用网格搜索传入逻辑回归分类器自动调参，c表示正则化系数，默认值为1，越小表示正则化越强，penalty为惩罚项默认为l2。用于指定惩罚项中使用的规范。newton-cg、sag和lbfgs求解算法只支持L2规范，所以我们只在l2的基础上进行solver的最佳参数的搜索，防止冲突，solver是优化算法选择参数，我们将与l2惩罚项匹配的所有solver参数传入搜索最佳参数"
   ]
  },
  {
   "cell_type": "markdown",
   "id": "0f5241fb",
   "metadata": {},
   "source": [
    "接下来我们传入参数表与逻辑回归分类器，并搜索使得f1_weighted分数最大的最优参数，f1_weighted分数根据每一类的比例赋予不同的权重使得对类别不平衡的样本具有更好的拟合能力"
   ]
  },
  {
   "cell_type": "code",
   "execution_count": 15,
   "id": "cccc3a1e",
   "metadata": {},
   "outputs": [
    {
     "data": {
      "text/plain": [
       "{'C': 0.525, 'solver': 'liblinear'}"
      ]
     },
     "execution_count": 15,
     "metadata": {},
     "output_type": "execute_result"
    }
   ],
   "source": [
    "log_reg_grid.best_params_#打印最优参数"
   ]
  },
  {
   "cell_type": "code",
   "execution_count": 16,
   "id": "e8c0a5aa",
   "metadata": {
    "scrolled": true
   },
   "outputs": [
    {
     "data": {
      "text/plain": [
       "0.9411764705882353"
      ]
     },
     "execution_count": 16,
     "metadata": {},
     "output_type": "execute_result"
    }
   ],
   "source": [
    "from sklearn.metrics import f1_score\n",
    "f1_score(y_test,y_predict)"
   ]
  },
  {
   "cell_type": "code",
   "execution_count": 17,
   "id": "70b4df56",
   "metadata": {},
   "outputs": [
    {
     "name": "stdout",
     "output_type": "stream",
     "text": [
      "              precision    recall  f1-score   support\n",
      "\n",
      "         0.0       0.97      1.00      0.98        29\n",
      "         1.0       1.00      0.89      0.94         9\n",
      "\n",
      "    accuracy                           0.97        38\n",
      "   macro avg       0.98      0.94      0.96        38\n",
      "weighted avg       0.97      0.97      0.97        38\n",
      "\n"
     ]
    }
   ],
   "source": [
    "from sklearn.metrics import classification_report\n",
    "print(classification_report(y_test,y_predict))"
   ]
  },
  {
   "cell_type": "code",
   "execution_count": 18,
   "id": "cecddfec",
   "metadata": {},
   "outputs": [
    {
     "data": {
      "text/plain": [
       "Text(33.0, 0.5, 'true')"
      ]
     },
     "execution_count": 18,
     "metadata": {},
     "output_type": "execute_result"
    },
    {
     "data": {
      "image/png": "[encoded data removed]",
      "text/plain": [
       "<Figure size 432x288 with 2 Axes>"
      ]
     },
     "metadata": {
      "needs_background": "light"
     },
     "output_type": "display_data"
    }
   ],
   "source": [
    "\n",
    "log_confusion=confusion_matrix(y_test,y_predict)\n",
    "import seaborn as sn\n",
    "ax = sn.heatmap(log_confusion,annot=True,fmt='.20g')\n",
    "ax.set_title('confusion matrix') #标题\n",
    "ax.set_xlabel('predict') #x轴\n",
    "ax.set_ylabel('true') #y轴"
   ]
  },
  {
   "cell_type": "code",
   "execution_count": null,
   "outputs": [],
   "source": [
    "x1_plot = np.arange(1, 3, step=0.1)\n",
    "x2_plot = -(x1_plot * log_reg.coef_[0][0] + log_reg.intercept_)\n",
    "plt.plot(x1_plot, x2_plot)"
   ],
   "metadata": {
    "collapsed": false,
    "pycharm": {
     "name": "#%%\n"
    }
   }
  },
  {
   "cell_type": "markdown",
   "source": [],
   "metadata": {
    "collapsed": false
   }
  }
 ],
 "metadata": {
  "kernelspec": {
   "display_name": "Python 3 (ipykernel)",
   "language": "python",
   "name": "python3"
  },
  "language_info": {
   "codemirror_mode": {
    "name": "ipython",
    "version": 3
   },
   "file_extension": ".py",
   "mimetype": "text/x-python",
   "name": "python",
   "nbconvert_exporter": "python",
   "pygments_lexer": "ipython3",
   "version": "3.9.12"
  }
 },
 "nbformat": 4,
 "nbformat_minor": 5
}